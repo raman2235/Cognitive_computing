{
  "nbformat": 4,
  "nbformat_minor": 0,
  "metadata": {
    "colab": {
      "provenance": []
    },
    "kernelspec": {
      "name": "python3",
      "display_name": "Python 3"
    },
    "language_info": {
      "name": "python"
    }
  },
  "cells": [
    {
      "cell_type": "markdown",
      "source": [
        "Que1:"
      ],
      "metadata": {
        "id": "UDhT_kzETJgk"
      }
    },
    {
      "cell_type": "code",
      "execution_count": 1,
      "metadata": {
        "colab": {
          "base_uri": "https://localhost:8080/"
        },
        "id": "EE0eSaz0SzIg",
        "outputId": "6bc9a0f3-99ca-4d3f-fd9c-997b3cb0e0ea"
      },
      "outputs": [
        {
          "output_type": "stream",
          "name": "stderr",
          "text": [
            "[nltk_data] Downloading package punkt_tab to /root/nltk_data...\n",
            "[nltk_data]   Unzipping tokenizers/punkt_tab.zip.\n"
          ]
        },
        {
          "output_type": "stream",
          "name": "stdout",
          "text": [
            "\n",
            "time travel has long captivated the human imagination, offering a tantalizing glimpse into the possibility of bending the rules of reality.\n",
            "the concept suggests that one could journey backward to witness the past or leap forward to explore the future, unraveling the mysteries of history or peeking into what’s yet to come.\n",
            "email: test.email123@example.com\n",
            "visit: https://www.timetravel.com/info.html or www.example-site.org\n",
            "contact: +91 9876543210 or 123-456-7890\n",
            "pi is approximately 3.14159 and not just 3 or 3.0. the state-of-the-art machine isn’t working well.\n",
            "\n",
            "\n",
            "\n",
            "\n",
            "time travel has long captivated the human imagination offering a tantalizing glimpse into the possibility of bending the rules of reality\n",
            "the concept suggests that one could journey backward to witness the past or leap forward to explore the future unraveling the mysteries of history or peeking into what’s yet to come\n",
            "email testemail123examplecom\n",
            "visit httpswwwtimetravelcominfohtml or wwwexamplesiteorg\n",
            "contact 91 9876543210 or 1234567890\n",
            "pi is approximately 314159 and not just 3 or 30 the stateoftheart machine isn’t working well\n",
            "\n",
            "\n",
            "\n",
            "['time', 'travel', 'has', 'long', 'captivated', 'the', 'human', 'imagination', 'offering', 'a', 'tantalizing', 'glimpse', 'into', 'the', 'possibility', 'of', 'bending', 'the', 'rules', 'of', 'reality', 'the', 'concept', 'suggests', 'that', 'one', 'could', 'journey', 'backward', 'to', 'witness', 'the', 'past', 'or', 'leap', 'forward', 'to', 'explore', 'the', 'future', 'unraveling', 'the', 'mysteries', 'of', 'history', 'or', 'peeking', 'into', 'what', '’', 's', 'yet', 'to', 'come', 'email', 'testemail123examplecom', 'visit', 'httpswwwtimetravelcominfohtml', 'or', 'wwwexamplesiteorg', 'contact', '91', '9876543210', 'or', '1234567890', 'pi', 'is', 'approximately', '314159', 'and', 'not', 'just', '3', 'or', '30', 'the', 'stateoftheart', 'machine', 'isn', '’', 't', 'working', 'well']\n",
            "\n",
            "\n",
            "['time', 'travel', 'long', 'captivated', 'human', 'imagination', 'offering', 'tantalizing', 'glimpse', 'possibility', 'bending', 'rules', 'reality', 'concept', 'suggests', 'one', 'could', 'journey', 'backward', 'witness', 'past', 'leap', 'forward', 'explore', 'future', 'unraveling', 'mysteries', 'history', 'peeking', '’', 'yet', 'come', 'email', 'testemail123examplecom', 'visit', 'httpswwwtimetravelcominfohtml', 'wwwexamplesiteorg', 'contact', '91', '9876543210', '1234567890', 'pi', 'approximately', '314159', '3', '30', 'stateoftheart', 'machine', '’', 'working', 'well']\n",
            "\n",
            "\n",
            "Sentences:\n",
            "1. \n",
            "time travel has long captivated the human imagination offering a tantalizing glimpse into the possibility of bending the rules of reality\n",
            "the concept suggests that one could journey backward to witness the past or leap forward to explore the future unraveling the mysteries of history or peeking into what’s yet to come\n",
            "email testemail123examplecom\n",
            "visit httpswwwtimetravelcominfohtml or wwwexamplesiteorg\n",
            "contact 91 9876543210 or 1234567890\n",
            "pi is approximately 314159 and not just 3 or 30 the stateoftheart machine isn’t working well\n",
            "\n",
            "Filtered Words:\n",
            "['time', 'travel', 'long', 'captivated', 'human', 'imagination', 'offering', 'tantalizing', 'glimpse', 'possibility', 'bending', 'rules', 'reality', 'concept', 'suggests', 'one', 'could', 'journey', 'backward', 'witness', 'past', 'leap', 'forward', 'explore', 'future', 'unraveling', 'mysteries', 'history', 'peeking', '’', 'yet', 'come', 'email', 'testemail123examplecom', 'visit', 'httpswwwtimetravelcominfohtml', 'wwwexamplesiteorg', 'contact', '91', '9876543210', '1234567890', 'pi', 'approximately', '314159', '3', '30', 'stateoftheart', 'machine', '’', 'working', 'well']\n",
            "\n",
            "Word Frequency Distribution:\n",
            "’: 2\n",
            "time: 1\n",
            "travel: 1\n",
            "long: 1\n",
            "captivated: 1\n",
            "human: 1\n",
            "imagination: 1\n",
            "offering: 1\n",
            "tantalizing: 1\n",
            "glimpse: 1\n",
            "possibility: 1\n",
            "bending: 1\n",
            "rules: 1\n",
            "reality: 1\n",
            "concept: 1\n",
            "suggests: 1\n",
            "one: 1\n",
            "could: 1\n",
            "journey: 1\n",
            "backward: 1\n",
            "witness: 1\n",
            "past: 1\n",
            "leap: 1\n",
            "forward: 1\n",
            "explore: 1\n",
            "future: 1\n",
            "unraveling: 1\n",
            "mysteries: 1\n",
            "history: 1\n",
            "peeking: 1\n",
            "yet: 1\n",
            "come: 1\n",
            "email: 1\n",
            "testemail123examplecom: 1\n",
            "visit: 1\n",
            "httpswwwtimetravelcominfohtml: 1\n",
            "wwwexamplesiteorg: 1\n",
            "contact: 1\n",
            "91: 1\n",
            "9876543210: 1\n",
            "1234567890: 1\n",
            "pi: 1\n",
            "approximately: 1\n",
            "314159: 1\n",
            "3: 1\n",
            "30: 1\n",
            "stateoftheart: 1\n",
            "machine: 1\n",
            "working: 1\n",
            "well: 1\n"
          ]
        },
        {
          "output_type": "stream",
          "name": "stderr",
          "text": [
            "[nltk_data] Downloading package stopwords to /root/nltk_data...\n",
            "[nltk_data]   Unzipping corpora/stopwords.zip.\n"
          ]
        }
      ],
      "source": [
        "import nltk\n",
        "import string\n",
        "from nltk.corpus import stopwords\n",
        "from nltk.tokenize import word_tokenize, sent_tokenize\n",
        "from nltk.probability import FreqDist\n",
        "\n",
        "nltk.download('punkt_tab')\n",
        "nltk.download('stopwords')\n",
        "\n",
        "text = \"\"\"\n",
        "Time travel has long captivated the human imagination, offering a tantalizing glimpse into the possibility of bending the rules of reality.\n",
        "The concept suggests that one could journey backward to witness the past or leap forward to explore the future, unraveling the mysteries of history or peeking into what’s yet to come.\n",
        "Email: test.email123@example.com\n",
        "Visit: https://www.timetravel.com/info.html or www.example-site.org\n",
        "Contact: +91 9876543210 or 123-456-7890\n",
        "Pi is approximately 3.14159 and not just 3 or 3.0. The state-of-the-art machine isn’t working well.\n",
        "\"\"\"\n",
        "\n",
        "#convert text to lower case\n",
        "text_lower= text.lower()\n",
        "print(text_lower)\n",
        "print('\\n')\n",
        "\n",
        "#remove punctuation\n",
        "text_no_punct= text_lower.translate(str.maketrans('', '', string.punctuation))\n",
        "print(text_no_punct)\n",
        "print('\\n')\n",
        "\n",
        "#word tokenisation\n",
        "words= word_tokenize(text_no_punct)\n",
        "print(words)\n",
        "\n",
        "#sentence tokenisation\n",
        "sentences= sent_tokenize(text_no_punct)\n",
        "print('\\n')\n",
        "\n",
        "#remove stop words\n",
        "stop_words= set(stopwords.words('english'))\n",
        "filtered_words= [word for word in words if word.casefold() not in stop_words]\n",
        "print(filtered_words)\n",
        "print('\\n')\n",
        "\n",
        "#word frequency distribution\n",
        "freq_dist= FreqDist(filtered_words)\n",
        "\n",
        "print(\"Sentences:\")\n",
        "for i, sent in enumerate(sentences, 1):\n",
        "    print(f\"{i}. {sent}\")\n",
        "\n",
        "print(\"\\nFiltered Words:\")\n",
        "print(filtered_words)\n",
        "\n",
        "print(\"\\nWord Frequency Distribution:\")\n",
        "for word, freq in freq_dist.most_common():\n",
        "    print(f\"{word}: {freq}\")"
      ]
    },
    {
      "cell_type": "markdown",
      "source": [
        "Que2:"
      ],
      "metadata": {
        "id": "6IvfmfahTYs8"
      }
    },
    {
      "cell_type": "code",
      "source": [
        "#applying stemming to tokenised words in Q1\n",
        "from nltk.stem import PorterStemmer, LancasterStemmer\n",
        "\n",
        "porter_stemmer= PorterStemmer()\n",
        "lancaster_stemmer= LancasterStemmer()\n",
        "\n",
        "#stemmed words\n",
        "porter_stemmed_words= [porter_stemmer.stem(word) for word in filtered_words]\n",
        "lancaster_stemmed_words= [lancaster_stemmer.stem(word) for word in filtered_words]\n",
        "\n",
        "print(\"Porter Stemmed Words:\")\n",
        "print(porter_stemmed_words)\n",
        "\n",
        "print(\"\\nLancaster Stemmed Words:\")\n",
        "print(lancaster_stemmed_words)\n",
        "\n",
        "#lemmatization\n",
        "from nltk.stem import WordNetLemmatizer\n",
        "nltk.download('wordnet')\n",
        "\n",
        "lemmatizer= WordNetLemmatizer()\n",
        "lemmatized_words= [lemmatizer.lemmatize(word) for word in filtered_words]\n",
        "\n",
        "print(\"\\nLemmatized Words:\")\n",
        "print(lemmatized_words)"
      ],
      "metadata": {
        "colab": {
          "base_uri": "https://localhost:8080/"
        },
        "id": "QBaz3K0lTasq",
        "outputId": "e55b8d4e-fe7f-4080-e3cb-d63e5e1950e3"
      },
      "execution_count": 2,
      "outputs": [
        {
          "output_type": "stream",
          "name": "stdout",
          "text": [
            "Porter Stemmed Words:\n",
            "['time', 'travel', 'long', 'captiv', 'human', 'imagin', 'offer', 'tantal', 'glimps', 'possibl', 'bend', 'rule', 'realiti', 'concept', 'suggest', 'one', 'could', 'journey', 'backward', 'wit', 'past', 'leap', 'forward', 'explor', 'futur', 'unravel', 'mysteri', 'histori', 'peek', '’', 'yet', 'come', 'email', 'testemail123examplecom', 'visit', 'httpswwwtimetravelcominfohtml', 'wwwexamplesiteorg', 'contact', '91', '9876543210', '1234567890', 'pi', 'approxim', '314159', '3', '30', 'stateoftheart', 'machin', '’', 'work', 'well']\n",
            "\n",
            "Lancaster Stemmed Words:\n",
            "['tim', 'travel', 'long', 'capt', 'hum', 'imagin', 'off', 'tant', 'glimps', 'poss', 'bend', 'rul', 'real', 'conceiv', 'suggest', 'on', 'could', 'journey', 'backward', 'wit', 'past', 'leap', 'forward', 'expl', 'fut', 'unravel', 'mystery', 'hist', 'peek', '’', 'yet', 'com', 'email', 'testemail123examplecom', 'visit', 'httpswwwtimetravelcominfohtml', 'wwwexamplesiteorg', 'contact', '91', '9876543210', '1234567890', 'pi', 'approxim', '314159', '3', '30', 'stateoftheart', 'machin', '’', 'work', 'wel']\n"
          ]
        },
        {
          "output_type": "stream",
          "name": "stderr",
          "text": [
            "[nltk_data] Downloading package wordnet to /root/nltk_data...\n"
          ]
        },
        {
          "output_type": "stream",
          "name": "stdout",
          "text": [
            "\n",
            "Lemmatized Words:\n",
            "['time', 'travel', 'long', 'captivated', 'human', 'imagination', 'offering', 'tantalizing', 'glimpse', 'possibility', 'bending', 'rule', 'reality', 'concept', 'suggests', 'one', 'could', 'journey', 'backward', 'witness', 'past', 'leap', 'forward', 'explore', 'future', 'unraveling', 'mystery', 'history', 'peeking', '’', 'yet', 'come', 'email', 'testemail123examplecom', 'visit', 'httpswwwtimetravelcominfohtml', 'wwwexamplesiteorg', 'contact', '91', '9876543210', '1234567890', 'pi', 'approximately', '314159', '3', '30', 'stateoftheart', 'machine', '’', 'working', 'well']\n"
          ]
        }
      ]
    },
    {
      "cell_type": "markdown",
      "source": [
        "Que3:"
      ],
      "metadata": {
        "id": "yAtim1p0TfvH"
      }
    },
    {
      "cell_type": "code",
      "source": [
        "import re\n",
        "#extract all words from original text with more than 5 letters\n",
        "words_more_than_5 = re.findall(r'\\b\\w{6,}\\b', text)\n",
        "\n",
        "# b. Extract all numbers\n",
        "numbers = re.findall(r'\\b\\d+\\b', text)\n",
        "\n",
        "# c. Extract all capitalized words\n",
        "capitalized_words = re.findall(r'\\b[A-Z][a-z]*\\b', text)\n",
        "\n",
        "# a. Split text into words containing only alphabets (remove digits/special characters)\n",
        "alphabet_only_words = re.findall(r'\\b[a-zA-Z]+\\b', text)\n",
        "\n",
        "# b. Extract words starting with a vowel (case-insensitive)\n",
        "vowel_words = [word for word in alphabet_only_words if re.match(r'^[aeiouAEIOU]', word)]\n",
        "\n",
        "# Output results\n",
        "print(\"Words with more than 5 letters:\\n\", words_more_than_5)\n",
        "print(\"\\nNumbers:\\n\", numbers)\n",
        "print(\"\\nCapitalized Words:\\n\", capitalized_words)\n",
        "print(\"\\nAlphabet-only Words:\\n\", alphabet_only_words)\n",
        "print(\"\\nWords Starting with a Vowel:\\n\", vowel_words)"
      ],
      "metadata": {
        "colab": {
          "base_uri": "https://localhost:8080/"
        },
        "id": "1L_zdPXqThLN",
        "outputId": "a4e3074c-8b60-47b0-9a9e-a3f4b1e2f335"
      },
      "execution_count": 3,
      "outputs": [
        {
          "output_type": "stream",
          "name": "stdout",
          "text": [
            "Words with more than 5 letters:\n",
            " ['travel', 'captivated', 'imagination', 'offering', 'tantalizing', 'glimpse', 'possibility', 'bending', 'reality', 'concept', 'suggests', 'journey', 'backward', 'witness', 'forward', 'explore', 'future', 'unraveling', 'mysteries', 'history', 'peeking', 'email123', 'example', 'timetravel', 'example', 'Contact', '9876543210', 'approximately', 'machine', 'working']\n",
            "\n",
            "Numbers:\n",
            " ['91', '9876543210', '123', '456', '7890', '3', '14159', '3', '3', '0']\n",
            "\n",
            "Capitalized Words:\n",
            " ['Time', 'The', 'Email', 'Visit', 'Contact', 'Pi', 'The']\n",
            "\n",
            "Alphabet-only Words:\n",
            " ['Time', 'travel', 'has', 'long', 'captivated', 'the', 'human', 'imagination', 'offering', 'a', 'tantalizing', 'glimpse', 'into', 'the', 'possibility', 'of', 'bending', 'the', 'rules', 'of', 'reality', 'The', 'concept', 'suggests', 'that', 'one', 'could', 'journey', 'backward', 'to', 'witness', 'the', 'past', 'or', 'leap', 'forward', 'to', 'explore', 'the', 'future', 'unraveling', 'the', 'mysteries', 'of', 'history', 'or', 'peeking', 'into', 'what', 's', 'yet', 'to', 'come', 'Email', 'test', 'example', 'com', 'Visit', 'https', 'www', 'timetravel', 'com', 'info', 'html', 'or', 'www', 'example', 'site', 'org', 'Contact', 'or', 'Pi', 'is', 'approximately', 'and', 'not', 'just', 'or', 'The', 'state', 'of', 'the', 'art', 'machine', 'isn', 't', 'working', 'well']\n",
            "\n",
            "Words Starting with a Vowel:\n",
            " ['imagination', 'offering', 'a', 'into', 'of', 'of', 'one', 'or', 'explore', 'unraveling', 'of', 'or', 'into', 'Email', 'example', 'info', 'or', 'example', 'org', 'or', 'is', 'approximately', 'and', 'or', 'of', 'art', 'isn']\n"
          ]
        }
      ]
    },
    {
      "cell_type": "markdown",
      "source": [
        "Que4:"
      ],
      "metadata": {
        "id": "wlFke-OqTtEm"
      }
    },
    {
      "cell_type": "code",
      "source": [
        "# Step 1: Regex replacements\n",
        "\n",
        "text = re.sub(r'\\b[\\w\\.-]+@[\\w\\.-]+\\.\\w+\\b', '[EMAIL]', text)  # email\n",
        "text = re.sub(r'https?://\\S+|www\\.\\S+', '[URL]', text)         # URLs\n",
        "text = re.sub(r'(\\+?\\d{1,3})[\\s-]?\\d{3}[\\s-]?\\d{3}[\\s-]?\\d{4}', '[PHONE]', text)  # phone\n",
        "\n",
        "# Step 2: Custom Tokenizer\n",
        "\n",
        "def custom_tokenizer(text):\n",
        "    # Pattern explanation:\n",
        "    # - [A-Za-z]+(?:[-'][A-Za-z]+)* matches words including contractions and hyphenated terms\n",
        "    # - \\d+\\.\\d+ matches decimal numbers\n",
        "    # - \\b\\d+\\b matches integers\n",
        "\n",
        "     # decimal numbers like 3.14\n",
        "     # integers\n",
        "     # words with optional hyphens or apostrophes\n",
        "     # placeholders\n",
        "    pattern = r\"\"\"\n",
        "        \\d+\\.\\d+\n",
        "        | \\b\\d+\\b| [A-Za-z]+(?:[-'][A-Za-z]+)*\n",
        "        |\n",
        "                EMAIL\n",
        "|\n",
        "                URL\n",
        "|\n",
        "                PHONE\n",
        "\n",
        "    \"\"\"\n",
        "    return re.findall(pattern, text, flags=re.VERBOSE)\n",
        "\n",
        "tokens = custom_tokenizer(text)\n",
        "\n",
        "\n",
        "# Final Output\n",
        "print(\" Final Custom Tokens:\\n\")\n",
        "print(tokens)"
      ],
      "metadata": {
        "colab": {
          "base_uri": "https://localhost:8080/"
        },
        "id": "hZmHo_-tTuf4",
        "outputId": "49439ead-f850-41af-c5a9-1f2a34815e9f"
      },
      "execution_count": 5,
      "outputs": [
        {
          "output_type": "stream",
          "name": "stdout",
          "text": [
            " Final Custom Tokens:\n",
            "\n",
            "['Time', 'travel', 'has', 'long', 'captivated', 'the', 'human', 'imagination', 'offering', 'a', 'tantalizing', 'glimpse', 'into', 'the', 'possibility', 'of', 'bending', 'the', 'rules', 'of', 'reality', 'The', 'concept', 'suggests', 'that', 'one', 'could', 'journey', 'backward', 'to', 'witness', 'the', 'past', 'or', 'leap', 'forward', 'to', 'explore', 'the', 'future', 'unraveling', 'the', 'mysteries', 'of', 'history', 'or', 'peeking', 'into', 'what', 's', 'yet', 'to', 'come', 'Email', 'EMAIL', 'Visit', 'URL', 'or', 'URL', 'Contact', 'PHONE', 'or', '123', '456', '7890', 'Pi', 'is', 'approximately', '3.14159', 'and', 'not', 'just', '3', 'or', '3.0', 'The', 'state-of-the-art', 'machine', 'isn', 't', 'working', 'well']\n"
          ]
        }
      ]
    }
  ]
}