{
  "nbformat": 4,
  "nbformat_minor": 0,
  "metadata": {
    "colab": {
      "provenance": []
    },
    "kernelspec": {
      "name": "python3",
      "display_name": "Python 3"
    },
    "language_info": {
      "name": "python"
    }
  },
  "cells": [
    {
      "cell_type": "markdown",
      "source": [
        "Que1.1WAP to print your name three times"
      ],
      "metadata": {
        "id": "OwQS__-lBpZL"
      }
    },
    {
      "cell_type": "code",
      "execution_count": null,
      "metadata": {
        "colab": {
          "base_uri": "https://localhost:8080/"
        },
        "id": "a9f6aCVGBTN5",
        "outputId": "a2993c21-3dbe-4246-9185-442114673ac3"
      },
      "outputs": [
        {
          "output_type": "stream",
          "name": "stdout",
          "text": [
            "Ramandeep\n",
            "Ramandeep\n",
            "Ramandeep\n"
          ]
        }
      ],
      "source": [
        "print(\"Ramandeep\")\n",
        "print(\"Ramandeep\")\n",
        "print(\"Ramandeep\")"
      ]
    },
    {
      "cell_type": "markdown",
      "source": [
        "Que2.1WAP to add three numbers and print the result"
      ],
      "metadata": {
        "id": "cCyFV2z8Bq5L"
      }
    },
    {
      "cell_type": "code",
      "source": [
        "a=int(input('enter the value of a: '))\n",
        "b=int(input('enter the value of b: '))\n",
        "c=int(input('enter the value of c: '))\n",
        "\n",
        "print('sum is: '+ str(a+b+c))"
      ],
      "metadata": {
        "colab": {
          "base_uri": "https://localhost:8080/"
        },
        "id": "nYJCo-B2B702",
        "outputId": "37bedc24-4a42-4de1-e829-e58afc4e5ae6"
      },
      "execution_count": null,
      "outputs": [
        {
          "output_type": "stream",
          "name": "stdout",
          "text": [
            "enter the value of a: 5\n",
            "enter the value of b: 23\n",
            "enter the value of c: 6\n",
            "sum is: 34\n"
          ]
        }
      ]
    },
    {
      "cell_type": "markdown",
      "source": [
        "Que2.2WAP to concatinate three strings and print the result"
      ],
      "metadata": {
        "id": "X7XbR9dtCMav"
      }
    },
    {
      "cell_type": "code",
      "source": [
        "str1=input('enter the first string: ')\n",
        "str2=input('enter the last string: ')\n",
        "str3=input('enter the middle string: ')\n",
        "\n",
        "print('concatenated string: '+ str1+' '+str2 + ' ' + str3)"
      ],
      "metadata": {
        "colab": {
          "base_uri": "https://localhost:8080/"
        },
        "id": "xXmT3FZzCOLF",
        "outputId": "7b8e1580-5bec-4894-835e-9fea07f94e23"
      },
      "execution_count": null,
      "outputs": [
        {
          "output_type": "stream",
          "name": "stdout",
          "text": [
            "enter the first string: Raman\n",
            "enter the last string: deep\n",
            "enter the middle string: kaur\n",
            "concatenated string: Raman deep kaur\n"
          ]
        }
      ]
    },
    {
      "cell_type": "markdown",
      "source": [
        "Assingment 4.1: WAP to print the table of 7, 9."
      ],
      "metadata": {
        "id": "V2SIfRqkCabr"
      }
    },
    {
      "cell_type": "code",
      "source": [
        "for i in range(1,11):\n",
        "  print(str(7) + ' * ' + str(i)  + ' = ' + str(7*i))\n",
        "\n",
        "print('\\n')\n",
        "\n",
        "for i in range(1,11):\n",
        "  print(str(9) + ' * ' + str(i)  + ' = ' + str(9*i))\n"
      ],
      "metadata": {
        "colab": {
          "base_uri": "https://localhost:8080/"
        },
        "id": "iq-LulAZCgd6",
        "outputId": "fac5b8ef-52c1-4358-e717-8050b6cb22f9"
      },
      "execution_count": null,
      "outputs": [
        {
          "output_type": "stream",
          "name": "stdout",
          "text": [
            "7 * 1 = 7\n",
            "7 * 2 = 14\n",
            "7 * 3 = 21\n",
            "7 * 4 = 28\n",
            "7 * 5 = 35\n",
            "7 * 6 = 42\n",
            "7 * 7 = 49\n",
            "7 * 8 = 56\n",
            "7 * 9 = 63\n",
            "7 * 10 = 70\n",
            "\n",
            "\n",
            "9 * 1 = 9\n",
            "9 * 2 = 18\n",
            "9 * 3 = 27\n",
            "9 * 4 = 36\n",
            "9 * 5 = 45\n",
            "9 * 6 = 54\n",
            "9 * 7 = 63\n",
            "9 * 8 = 72\n",
            "9 * 9 = 81\n",
            "9 * 10 = 90\n"
          ]
        }
      ]
    },
    {
      "cell_type": "markdown",
      "source": [
        "Assingment 4.2: WAP to print the table of n and n is given by user."
      ],
      "metadata": {
        "id": "oCFyoqqoCl7D"
      }
    },
    {
      "cell_type": "code",
      "source": [
        "n=int(input('enter the number: '))\n",
        "for i in range(1,11):\n",
        "  print(str(n) + ' * ' + str(i)  + ' = ' + str(n*i))"
      ],
      "metadata": {
        "colab": {
          "base_uri": "https://localhost:8080/"
        },
        "id": "kl1Nt5paCng2",
        "outputId": "ebb074c4-93c2-4c01-ac19-d758da4732d3"
      },
      "execution_count": null,
      "outputs": [
        {
          "output_type": "stream",
          "name": "stdout",
          "text": [
            "enter the number: 56\n",
            "56 * 1 = 56\n",
            "56 * 2 = 112\n",
            "56 * 3 = 168\n",
            "56 * 4 = 224\n",
            "56 * 5 = 280\n",
            "56 * 6 = 336\n",
            "56 * 7 = 392\n",
            "56 * 8 = 448\n",
            "56 * 9 = 504\n",
            "56 * 10 = 560\n"
          ]
        }
      ]
    },
    {
      "cell_type": "markdown",
      "source": [
        "Assingment 4.3: WAP to add all the numbers from 1 to n and n is given by user."
      ],
      "metadata": {
        "id": "CifYtNX9Csqc"
      }
    },
    {
      "cell_type": "code",
      "source": [
        "n=int(input('enter the number: '))\n",
        "sum=0\n",
        "for i in range(1,n+1):\n",
        "  sum+=i\n",
        "print('sum is: '+ str(sum))"
      ],
      "metadata": {
        "colab": {
          "base_uri": "https://localhost:8080/"
        },
        "id": "EwZRZcBMC3Nm",
        "outputId": "510d4d9f-9143-42b4-ae9f-c0bd774b8c98"
      },
      "execution_count": null,
      "outputs": [
        {
          "output_type": "stream",
          "name": "stdout",
          "text": [
            "enter the number: 53\n",
            "sum is: 1431\n"
          ]
        }
      ]
    },
    {
      "cell_type": "markdown",
      "source": [
        "Assingment 5.1: WAP to find max amoung three numbers and input from user. [Try max() function]"
      ],
      "metadata": {
        "id": "HVmQJGbeC6OE"
      }
    },
    {
      "cell_type": "code",
      "source": [
        "a=int(input('enter the value of a: '))\n",
        "b=int(input('enter the value of b: '))\n",
        "c=int(input('enter the value of c: '))\n",
        "\n",
        "maximum=max(a,b,c)\n",
        "print('maximum number is: '+ str(maximum))"
      ],
      "metadata": {
        "colab": {
          "base_uri": "https://localhost:8080/"
        },
        "id": "BUqvhsuMC-OS",
        "outputId": "83033820-2ff1-4570-9877-8646f508708d"
      },
      "execution_count": null,
      "outputs": [
        {
          "output_type": "stream",
          "name": "stdout",
          "text": [
            "enter the value of a: 4\n",
            "enter the value of b: 5\n",
            "enter the value of c: 6\n",
            "maximum number is: 6\n"
          ]
        }
      ]
    },
    {
      "cell_type": "markdown",
      "source": [
        "Assingment 5.2: WAP to add all numbers divisible by 7 and 9 from 1 to n and n is given by the user."
      ],
      "metadata": {
        "id": "FYSF3beNDE2_"
      }
    },
    {
      "cell_type": "code",
      "source": [
        "n=int(input('enter n: '))\n",
        "sum=0\n",
        "for i in range(1,n+1):\n",
        "  if(i%7==0 and i%9==0):\n",
        "    sum+=i\n",
        "print('sum is: '+ str(sum))"
      ],
      "metadata": {
        "colab": {
          "base_uri": "https://localhost:8080/"
        },
        "id": "pHP8HG9vDFaD",
        "outputId": "a96a3142-789d-42d9-ff23-998b52d3388f"
      },
      "execution_count": null,
      "outputs": [
        {
          "output_type": "stream",
          "name": "stdout",
          "text": [
            "enter n: 677\n",
            "sum is: 3465\n"
          ]
        }
      ]
    },
    {
      "cell_type": "markdown",
      "source": [
        "Assingment 5.3: WAP to add all prime numbers from 1 to n and n is given by the user."
      ],
      "metadata": {
        "id": "VtwzUZClDKqK"
      }
    },
    {
      "cell_type": "code",
      "source": [
        "n=int(input('enter n: '))\n",
        "sum=0\n",
        "for i in range(1,n+1):\n",
        "  if(i>1):\n",
        "    for j in range(2,i):\n",
        "      if(i%j==0):\n",
        "        break\n",
        "    else:\n",
        "      sum+=i\n",
        "print('sum is: '+ str(sum))"
      ],
      "metadata": {
        "colab": {
          "base_uri": "https://localhost:8080/"
        },
        "id": "bFOoGFvdDRPq",
        "outputId": "daae3c91-edb0-44be-fe44-d300bda59771"
      },
      "execution_count": null,
      "outputs": [
        {
          "output_type": "stream",
          "name": "stdout",
          "text": [
            "enter n: 87\n",
            "sum is: 874\n"
          ]
        }
      ]
    },
    {
      "cell_type": "markdown",
      "source": [
        "Assingment 6.1: WAP using function that add all odd numbers from 1 to n, n is given by the user."
      ],
      "metadata": {
        "id": "JxvVdw-nDW9j"
      }
    },
    {
      "cell_type": "code",
      "source": [
        "def sumOdd(n):\n",
        "  sum=0\n",
        "  for i in range(1,n+1):\n",
        "    if(i%2!=0):\n",
        "      sum+=i\n",
        "  return sum\n",
        "\n",
        "n=int(input('enter n: '))\n",
        "sumOdd(n)"
      ],
      "metadata": {
        "colab": {
          "base_uri": "https://localhost:8080/"
        },
        "id": "X45o45YwDZpC",
        "outputId": "13029db0-547f-44f0-b0ba-049a6b197774"
      },
      "execution_count": null,
      "outputs": [
        {
          "name": "stdout",
          "output_type": "stream",
          "text": [
            "enter n: 10\n"
          ]
        },
        {
          "output_type": "execute_result",
          "data": {
            "text/plain": [
              "25"
            ]
          },
          "metadata": {},
          "execution_count": 12
        }
      ]
    },
    {
      "cell_type": "markdown",
      "source": [
        "Assingment 6.2: WAP using function that add all prime numbers from 1 to n, n given by the user."
      ],
      "metadata": {
        "id": "fEnWdSn-Dc7p"
      }
    },
    {
      "cell_type": "code",
      "source": [
        "def sumPrime(n):\n",
        "  sum=0\n",
        "  for i in range(1,n+1):\n",
        "    if(i>1):\n",
        "      for j in range(2,i):\n",
        "        if(i%j==0):\n",
        "          break\n",
        "      else:\n",
        "        sum+=i\n",
        "  return sum\n",
        "\n",
        "n=int(input('enter n: '))\n",
        "sumPrime(n)"
      ],
      "metadata": {
        "id": "TifLMDSPDiEU",
        "outputId": "88af53c1-6498-4d91-9981-f0fb42c9c5c3",
        "colab": {
          "base_uri": "https://localhost:8080/"
        }
      },
      "execution_count": null,
      "outputs": [
        {
          "name": "stdout",
          "output_type": "stream",
          "text": [
            "enter n: 67\n"
          ]
        },
        {
          "output_type": "execute_result",
          "data": {
            "text/plain": [
              "568"
            ]
          },
          "metadata": {},
          "execution_count": 13
        }
      ]
    }
  ]
}