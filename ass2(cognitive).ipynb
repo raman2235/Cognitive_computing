{
  "nbformat": 4,
  "nbformat_minor": 0,
  "metadata": {
    "colab": {
      "provenance": []
    },
    "kernelspec": {
      "name": "python3",
      "display_name": "Python 3"
    },
    "language_info": {
      "name": "python"
    }
  },
  "cells": [
    {
      "cell_type": "markdown",
      "source": [
        "1st ques"
      ],
      "metadata": {
        "id": "n6zJFQEfiRM3"
      }
    },
    {
      "cell_type": "code",
      "execution_count": null,
      "metadata": {
        "colab": {
          "base_uri": "https://localhost:8080/"
        },
        "id": "5sMwC84NLXp_",
        "outputId": "18fd3900-9099-425a-fbd7-1b6f3f8a4fea"
      },
      "outputs": [
        {
          "output_type": "stream",
          "name": "stdout",
          "text": [
            "After adding 200 and 300: [10, 20, 30, 40, 50, 60, 70, 80, 200, 300]\n",
            "After removing 10 and 30: [20, 40, 50, 60, 70, 80, 200, 300]\n",
            "Sorted in ascending order: [20, 40, 50, 60, 70, 80, 200, 300]\n",
            "Sorted in descending order: [300, 200, 80, 70, 60, 50, 40, 20]\n"
          ]
        }
      ],
      "source": [
        "L = [10, 20, 30, 40, 50, 60, 70, 80]\n",
        "\n",
        "L.extend([200, 300])\n",
        "print(\"After adding 200 and 300:\", L)\n",
        "\n",
        "L.remove(10)\n",
        "L.remove(30)\n",
        "print(\"After removing 10 and 30:\", L)\n",
        "\n",
        "L.sort()\n",
        "print(\"Sorted in ascending order:\", L)\n",
        "\n",
        "L.sort(reverse=True)\n",
        "print(\"Sorted in descending order:\", L)\n"
      ]
    },
    {
      "cell_type": "markdown",
      "source": [
        "2nd ques"
      ],
      "metadata": {
        "id": "0LGEBkLoiZRC"
      }
    },
    {
      "cell_type": "code",
      "source": [
        "scores = (45, 89.5, 76, 45.4, 89, 92, 58, 45)\n",
        "\n",
        "highest_score = max(scores)\n",
        "highest_index = scores.index(highest_score)\n",
        "print(\"Highest score:\", highest_score, \"at index:\", highest_index)\n",
        "\n",
        "lowest_score = min(scores)\n",
        "lowest_count = scores.count(lowest_score)\n",
        "print(\"Lowest score:\", lowest_score, \"appears\", lowest_count, \"times\")\n",
        "\n",
        "reversed_scores = list(reversed(scores))\n",
        "print(\"Reversed tuple as list:\", reversed_scores)\n",
        "\n",
        "specific_score = 76\n",
        "if specific_score in scores:\n",
        "    first_occurrence_index = scores.index(specific_score)\n",
        "    print(f\"Score {specific_score} is present at index {first_occurrence_index}.\")\n",
        "else:\n",
        "    print(f\"Score {specific_score} is not present in the tuple.\")\n"
      ],
      "metadata": {
        "colab": {
          "base_uri": "https://localhost:8080/"
        },
        "id": "GOj2s8DhYt6q",
        "outputId": "8a03f417-64f2-4f5b-9eaf-ab58ae1c8525"
      },
      "execution_count": null,
      "outputs": [
        {
          "output_type": "stream",
          "name": "stdout",
          "text": [
            "Highest score: 92 at index: 5\n",
            "Lowest score: 45 appears 2 times\n",
            "Reversed tuple as list: [45, 58, 92, 89, 45.4, 76, 89.5, 45]\n",
            "Score 76 is present at index 2.\n"
          ]
        }
      ]
    },
    {
      "cell_type": "markdown",
      "source": [
        "3rd ques"
      ],
      "metadata": {
        "id": "B10Nb2oCibrR"
      }
    },
    {
      "cell_type": "code",
      "source": [
        "import random\n",
        "\n",
        "random_numbers = [random.randint(100, 900) for _ in range(100)]\n",
        "\n",
        "odd_numbers = [num for num in random_numbers if num % 2 != 0]\n",
        "print(\"Count of odd numbers:\", len(odd_numbers))\n",
        "\n",
        "even_numbers = [num for num in random_numbers if num % 2 == 0]\n",
        "print(\"Count of even numbers:\", len(even_numbers))\n",
        "\n",
        "def is_prime(n):\n",
        "    if n <= 1:\n",
        "        return False\n",
        "    for i in range(2, int(n**0.5) + 1):\n",
        "        if n % i == 0:\n",
        "            return False\n",
        "    return True\n",
        "\n",
        "prime_numbers = [num for num in random_numbers if is_prime(num)]\n",
        "print(\"Count of prime numbers:\", len(prime_numbers))\n"
      ],
      "metadata": {
        "colab": {
          "base_uri": "https://localhost:8080/"
        },
        "id": "8ssZab26hYxS",
        "outputId": "5445dc43-c2cc-48b8-f1b6-5b3802c1b669"
      },
      "execution_count": null,
      "outputs": [
        {
          "output_type": "stream",
          "name": "stdout",
          "text": [
            "Count of odd numbers: 48\n",
            "Count of even numbers: 52\n",
            "Count of prime numbers: 13\n"
          ]
        }
      ]
    },
    {
      "cell_type": "markdown",
      "source": [
        "4th ques"
      ],
      "metadata": {
        "id": "WbtMD2aZidu7"
      }
    },
    {
      "cell_type": "code",
      "source": [
        "A = {34, 56, 78, 90}\n",
        "B = {78, 45, 90, 23}\n",
        "\n",
        "unique_scores = A.union(B)\n",
        "print(\"Unique scores (union):\", unique_scores)\n",
        "\n",
        "common_scores = A.intersection(B)\n",
        "print(\"Common scores (intersection):\", common_scores)\n",
        "\n",
        "exclusive_scores = A.symmetric_difference(B)\n",
        "print(\"Exclusive scores (symmetric difference):\", exclusive_scores)\n",
        "\n",
        "is_subset = A.issubset(B)\n",
        "is_superset = B.issuperset(A)\n",
        "print(f\"A is subset of B: {is_subset}\")\n",
        "print(f\"B is superset of A: {is_superset}\")\n",
        "\n",
        "X = int(input(\"Enter a score to remove from set A: \"))\n",
        "if X in A:\n",
        "    A.remove(X)\n",
        "    print(f\"Score {X} removed from set A.\")\n",
        "else:\n",
        "    print(f\"Score {X} is not present in set A.\")\n"
      ],
      "metadata": {
        "colab": {
          "base_uri": "https://localhost:8080/"
        },
        "id": "u5jQKKX-hf7Y",
        "outputId": "755284b9-9e1d-49da-b71e-608dec471f7e"
      },
      "execution_count": null,
      "outputs": [
        {
          "output_type": "stream",
          "name": "stdout",
          "text": [
            "Unique scores (union): {34, 45, 78, 23, 56, 90}\n",
            "Common scores (intersection): {90, 78}\n",
            "Exclusive scores (symmetric difference): {34, 45, 23, 56}\n",
            "A is subset of B: False\n",
            "B is superset of A: False\n",
            "Enter a score to remove from set A: 56\n",
            "Score 56 removed from set A.\n"
          ]
        }
      ]
    },
    {
      "cell_type": "markdown",
      "source": [
        "5th ques"
      ],
      "metadata": {
        "id": "gHfpLjtcif-p"
      }
    },
    {
      "cell_type": "code",
      "source": [
        "sample_dict = {\n",
        "    \"name\": \"Kelly\",\n",
        "    \"age\": 25,\n",
        "    \"salary\": 8000,\n",
        "    \"city\": \"New york\"\n",
        "}\n",
        "\n",
        "sample_dict['location'] = sample_dict.pop('city')\n",
        "\n",
        "print(sample_dict)\n"
      ],
      "metadata": {
        "colab": {
          "base_uri": "https://localhost:8080/"
        },
        "id": "VLpI9u7yiLan",
        "outputId": "d8478194-e431-4416-8664-16c6f019b5ee"
      },
      "execution_count": null,
      "outputs": [
        {
          "output_type": "stream",
          "name": "stdout",
          "text": [
            "{'name': 'Kelly', 'age': 25, 'salary': 8000, 'location': 'New york'}\n"
          ]
        }
      ]
    }
  ]
}