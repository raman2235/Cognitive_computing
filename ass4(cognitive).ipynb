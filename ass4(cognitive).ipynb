{
  "nbformat": 4,
  "nbformat_minor": 0,
  "metadata": {
    "colab": {
      "provenance": []
    },
    "kernelspec": {
      "name": "python3",
      "display_name": "Python 3"
    },
    "language_info": {
      "name": "python"
    }
  },
  "cells": [
    {
      "cell_type": "markdown",
      "source": [
        "Que1:"
      ],
      "metadata": {
        "id": "cMQMCn36JGxE"
      }
    },
    {
      "cell_type": "code",
      "execution_count": null,
      "metadata": {
        "colab": {
          "base_uri": "https://localhost:8080/"
        },
        "id": "8i7Al82RIZmj",
        "outputId": "c37e872b-ddf1-48f4-9cd7-c9770aa1ffe8"
      },
      "outputs": [
        {
          "output_type": "stream",
          "name": "stdout",
          "text": [
            "Original Array: [10 20 30 40 50]\n",
            "Array after adding 2 to all elements: [12 22 32 42 52]\n",
            "Array after multiplying all elements by 3: [ 30  60  90 120 150]\n",
            "Array after dividing all elements by 2: [ 5. 10. 15. 20. 25.]\n"
          ]
        }
      ],
      "source": [
        "import numpy as np\n",
        "\n",
        "arr = np.array([10, 20, 30, 40, 50])\n",
        "print(\"Original Array:\", arr)\n",
        "\n",
        "# a) Addition of 2 to all elements\n",
        "arr_add = arr + 2\n",
        "print(\"Array after adding 2 to all elements:\", arr_add)\n",
        "\n",
        "# b) Multiply all elements by 3\n",
        "arr_multiply = arr * 3\n",
        "print(\"Array after multiplying all elements by 3:\", arr_multiply)\n",
        "\n",
        "# c) Divide every element by 2\n",
        "arr_divide = arr / 2\n",
        "print(\"Array after dividing all elements by 2:\", arr_divide)"
      ]
    },
    {
      "cell_type": "markdown",
      "source": [
        "Que2:"
      ],
      "metadata": {
        "id": "sj1Agdl3Jcvz"
      }
    },
    {
      "cell_type": "code",
      "source": [
        "# a) Reverse the NumPy array\n",
        "arr = np.array([1, 2, 3, 6, 4, 5])\n",
        "reversed_arr = arr[::-1]\n",
        "print(\"Reversed Array:\", reversed_arr)\n",
        "\n",
        "# b) Find the most frequent value and their indices in arrays\n",
        "x = np.array([1, 2, 3, 4, 5, 1, 2, 1, 1, 1])\n",
        "y = np.array([1, 1, 1, 2, 3, 4, 2, 4, 3, 3])\n",
        "\n",
        "# For array x\n",
        "most_frequent_x = np.bincount(x).argmax()\n",
        "indices_x = np.where(x == most_frequent_x)[0]\n",
        "print(\"Most frequent value in x:\", most_frequent_x)\n",
        "print(\"Indices of most frequent value in x:\", indices_x)\n",
        "\n",
        "# For array y\n",
        "most_frequent_y = np.bincount(y).argmax()\n",
        "indices_y = np.where(y == most_frequent_y)[0]\n",
        "print(\"Most frequent value in y:\", most_frequent_y)\n",
        "print(\"Indices of most frequent value in y:\", indices_y)"
      ],
      "metadata": {
        "colab": {
          "base_uri": "https://localhost:8080/"
        },
        "id": "1dgB25s3Jewh",
        "outputId": "cec40bbf-7947-4dfd-8f5b-317c3f516f53"
      },
      "execution_count": null,
      "outputs": [
        {
          "output_type": "stream",
          "name": "stdout",
          "text": [
            "Reversed Array: [5 4 6 3 2 1]\n",
            "Most frequent value in x: 1\n",
            "Indices of most frequent value in x: [0 5 7 8 9]\n",
            "Most frequent value in y: 1\n",
            "Indices of most frequent value in y: [0 1 2]\n"
          ]
        }
      ]
    },
    {
      "cell_type": "markdown",
      "source": [
        "Que3:"
      ],
      "metadata": {
        "id": "CtteatuNJoTW"
      }
    },
    {
      "cell_type": "code",
      "source": [
        "arr_2d = np.array([[10, 20, 30], [40, 50, 60], [70, 80, 90]])\n",
        "\n",
        "# a) Accessing the element at (1st row, 2nd column)\n",
        "element_1_2 = arr_2d[0][1]\n",
        "print(\"Element at (1st row, 2nd column):\", element_1_2)\n",
        "\n",
        "# b) Accessing the element at (3rd row, 1st column)\n",
        "element_3_1 = arr_2d[2][0]\n",
        "print(\"Element at (3rd row, 1st column):\", element_3_1)"
      ],
      "metadata": {
        "colab": {
          "base_uri": "https://localhost:8080/"
        },
        "id": "4IyOdkENJq6m",
        "outputId": "4217d971-7d03-4d1f-d31b-6421d059d6cb"
      },
      "execution_count": null,
      "outputs": [
        {
          "output_type": "stream",
          "name": "stdout",
          "text": [
            "Element at (1st row, 2nd column): 20\n",
            "Element at (3rd row, 1st column): 70\n"
          ]
        }
      ]
    },
    {
      "cell_type": "markdown",
      "source": [
        "Que4:"
      ],
      "metadata": {
        "id": "ttculCDoJw1v"
      }
    },
    {
      "cell_type": "code",
      "source": [
        "import numpy as np\n",
        "\n",
        "Ramandeep = np.array(np.linspace(10,100,25))\n",
        "print(Ramandeep)\n",
        "print(Ramandeep.ndim)\n",
        "print(Ramandeep.shape)\n",
        "print(Ramandeep.size)\n",
        "print(Ramandeep.dtype)\n",
        "print(Ramandeep.nbytes)\n",
        "\n",
        "Ramandeep2 = Ramandeep.copy()\n",
        "\n",
        "transpose = Ramandeep.reshape(25,1)\n",
        "print(transpose)\n",
        "\n",
        "transpose2 = Ramandeep2.T\n",
        "print(transpose2)\n",
        "\n",
        "print(\"\\nDoes .T work the same way?\", np.array_equal(transpose, transpose2))"
      ],
      "metadata": {
        "colab": {
          "base_uri": "https://localhost:8080/"
        },
        "id": "t1x78q8GJy5h",
        "outputId": "b1dd04ed-9283-4c77-ce41-40db425d6872"
      },
      "execution_count": null,
      "outputs": [
        {
          "output_type": "stream",
          "name": "stdout",
          "text": [
            "[ 10.    13.75  17.5   21.25  25.    28.75  32.5   36.25  40.    43.75\n",
            "  47.5   51.25  55.    58.75  62.5   66.25  70.    73.75  77.5   81.25\n",
            "  85.    88.75  92.5   96.25 100.  ]\n",
            "1\n",
            "(25,)\n",
            "25\n",
            "float64\n",
            "200\n",
            "[[ 10.  ]\n",
            " [ 13.75]\n",
            " [ 17.5 ]\n",
            " [ 21.25]\n",
            " [ 25.  ]\n",
            " [ 28.75]\n",
            " [ 32.5 ]\n",
            " [ 36.25]\n",
            " [ 40.  ]\n",
            " [ 43.75]\n",
            " [ 47.5 ]\n",
            " [ 51.25]\n",
            " [ 55.  ]\n",
            " [ 58.75]\n",
            " [ 62.5 ]\n",
            " [ 66.25]\n",
            " [ 70.  ]\n",
            " [ 73.75]\n",
            " [ 77.5 ]\n",
            " [ 81.25]\n",
            " [ 85.  ]\n",
            " [ 88.75]\n",
            " [ 92.5 ]\n",
            " [ 96.25]\n",
            " [100.  ]]\n",
            "[ 10.    13.75  17.5   21.25  25.    28.75  32.5   36.25  40.    43.75\n",
            "  47.5   51.25  55.    58.75  62.5   66.25  70.    73.75  77.5   81.25\n",
            "  85.    88.75  92.5   96.25 100.  ]\n",
            "\n",
            "Does .T work the same way? False\n"
          ]
        }
      ]
    },
    {
      "cell_type": "markdown",
      "source": [
        "\n",
        "que5:"
      ],
      "metadata": {
        "id": "9KR_jmiVK2cA"
      }
    },
    {
      "cell_type": "code",
      "source": [
        "import numpy as np\n",
        "\n",
        "ucs420_Raman = np.array([[10,20,30,40],[50,60,70,80],[90,15,20,35]])\n",
        "print(ucs420_Raman)\n",
        "mean = np.mean(ucs420_Raman)\n",
        "print(mean)\n",
        "\n",
        "median = np.median(ucs420_Raman)\n",
        "print(median)\n",
        "\n",
        "max = np.max(ucs420_Raman)\n",
        "print(max)\n",
        "\n",
        "min = np.min(ucs420_Raman)\n",
        "print(min)\n",
        "\n",
        "unique = np.unique(ucs420_Raman)\n",
        "print(unique)\n",
        "\n",
        "reshaped_ucs420_Raman = ucs420_Raman.reshape(4,3)\n",
        "print(reshaped_ucs420_Raman)\n",
        "\n",
        "resized_ucs420_Raman = np.resize(ucs420_Raman, (2, 3))\n",
        "print(\"Resized Array (2x3):\")\n",
        "print(resized_ucs420_Raman)"
      ],
      "metadata": {
        "colab": {
          "base_uri": "https://localhost:8080/"
        },
        "id": "Z41_M4r8K5AH",
        "outputId": "497c0592-f06c-4fc3-cbb4-495e5c67d0be"
      },
      "execution_count": null,
      "outputs": [
        {
          "output_type": "stream",
          "name": "stdout",
          "text": [
            "[[10 20 30 40]\n",
            " [50 60 70 80]\n",
            " [90 15 20 35]]\n",
            "43.333333333333336\n",
            "37.5\n",
            "90\n",
            "10\n",
            "[10 15 20 30 35 40 50 60 70 80 90]\n",
            "[[10 20 30]\n",
            " [40 50 60]\n",
            " [70 80 90]\n",
            " [15 20 35]]\n",
            "Resized Array (2x3):\n",
            "[[10 20 30]\n",
            " [40 50 60]]\n"
          ]
        }
      ]
    }
  ]
}